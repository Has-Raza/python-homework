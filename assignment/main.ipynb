{
 "cells": [
  {
   "cell_type": "code",
   "execution_count": 2,
   "id": "123da126",
   "metadata": {},
   "outputs": [],
   "source": [
    "import pandas as pd\n",
    "from pathlib import Path"
   ]
  },
  {
   "cell_type": "code",
   "execution_count": 5,
   "id": "0af7d38b",
   "metadata": {},
   "outputs": [],
   "source": [
    "# This function performs a financial analysis of a financial dataset with two columns: Data and Profit/Losses\n",
    "def financial_analysis(x):\n",
    "    path = Path().resolve() / x\n",
    "    budget_data = pd.read_csv(path)\n",
    "    \n",
    "    profit = budget_data['Profit/Losses']\n",
    "    date = budget_data['Date']\n",
    "    change = []\n",
    "    date_of_change = dict()\n",
    "    for index, value in enumerate(profit):\n",
    "        if index == 0:\n",
    "            pass\n",
    "        else:\n",
    "            difference = value - profit[(index - 1)]\n",
    "            change.append(difference)\n",
    "            date_of_change[date[index]] = difference\n",
    "    \n",
    "    date_list = list(date_of_change.keys())\n",
    "    difference_list = list(date_of_change.values())\n",
    "    \n",
    "    total_months = len(date)\n",
    "    total = sum(profit)\n",
    "    average = sum(change)/len(change)\n",
    "    greatest_increase = max(change)\n",
    "    greatest_decrease = min(change)\n",
    "    date_of_greatest_increase = date_list[difference_list.index(max(difference_list))]\n",
    "    date_of_greatest_decrease = date_list[difference_list.index(min(difference_list))]\n",
    "    return (\n",
    "        f'''  \n",
    "        Financial Analysis \n",
    "        {\"-\"*30} \n",
    "        Total Months: ${total_months}\n",
    "        Total: ${total}\n",
    "        Average Change: {round(average, 2)}\n",
    "        Greatest Increase in Profits: {date_of_greatest_increase} (${greatest_increase})\n",
    "        Greatest Decrease in Profits: {date_of_greatest_decrease} (${greatest_decrease})\n",
    "        '''\n",
    "    )\n",
    "# This function creates a text file of the output of our Financial Analysis.\n",
    "# Running this function will perform an analysis on the input 'csv' file and export the output to a text file        \n",
    "def create_financial_analysis_text(x):\n",
    "    body = financial_analysis(x)\n",
    "    with open('analysis.txt', 'w') as f:\n",
    "        f.write(body)\n",
    "    return print(body)"
   ]
  },
  {
   "cell_type": "code",
   "execution_count": 6,
   "id": "7aac9d5f",
   "metadata": {},
   "outputs": [
    {
     "name": "stdout",
     "output_type": "stream",
     "text": [
      "  \n",
      "        Financial Analysis \n",
      "        ------------------------------ \n",
      "        Total Months: $86\n",
      "        Total: $38382578\n",
      "        Average Change: -2315.12\n",
      "        Greatest Increase in Profits: Feb-2012 ($1926159)\n",
      "        Greatest Decrease in Profits: Sep-2013 ($-2196167)\n",
      "        \n"
     ]
    }
   ],
   "source": [
    "create_financial_analysis_text('budget_data.csv')"
   ]
  },
  {
   "cell_type": "code",
   "execution_count": null,
   "id": "b86b479a",
   "metadata": {},
   "outputs": [],
   "source": []
  }
 ],
 "metadata": {
  "kernelspec": {
   "display_name": "Python 3",
   "language": "python",
   "name": "python3"
  },
  "language_info": {
   "codemirror_mode": {
    "name": "ipython",
    "version": 3
   },
   "file_extension": ".py",
   "mimetype": "text/x-python",
   "name": "python",
   "nbconvert_exporter": "python",
   "pygments_lexer": "ipython3",
   "version": "3.8.8"
  }
 },
 "nbformat": 4,
 "nbformat_minor": 5
}
